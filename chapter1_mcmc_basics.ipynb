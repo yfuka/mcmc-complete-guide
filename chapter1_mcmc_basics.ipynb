{
 "cells": [
  {
   "cell_type": "markdown",
   "metadata": {},
   "source": [
    "# Chapter 1: MCMC基礎理論\n",
    "\n",
    "## 学習目標\n",
    "- MCMCの基本概念と必要性を理解する\n",
    "- マルコフ連鎖の基本性質を学ぶ\n",
    "- 定常分布と詳細釣り合い条件を理解する\n",
    "- 確率分布からのサンプリング問題を把握する"
   ]
  },
  {
   "cell_type": "code",
   "execution_count": null,
   "metadata": {},
   "outputs": [],
   "source": [
    "import numpy as np\n",
    "import matplotlib.pyplot as plt\n",
    "import seaborn as sns\n",
    "from scipy import stats\n",
    "from scipy.integrate import quad\n",
    "import warnings\n",
    "warnings.filterwarnings('ignore')\n",
    "\n",
    "# 日本語フォント設定\n",
    "plt.rcParams['font.family'] = 'DejaVu Sans'\n",
    "sns.set_style(\"whitegrid\")\n",
    "np.random.seed(42)"
   ]
  },
  {
   "cell_type": "markdown",
   "metadata": {},
   "source": [
    "## 1.1 MCMCとは何か？\n",
    "\n",
    "**MCMC（Markov Chain Monte Carlo）**は、複雑な確率分布からサンプリングを行うための強力な手法です。\n",
    "\n",
    "### なぜMCMCが必要なのか？\n",
    "\n",
    "以下のような状況で直接サンプリングが困難な場合があります：\n",
    "- 正規化定数（分配関数）の計算が困難\n",
    "- 高次元空間での積分計算\n",
    "- 複雑な形状の確率分布\n",
    "- ベイズ推論における事後分布"
   ]
  },
  {
   "cell_type": "markdown",
   "metadata": {},
   "source": [
    "### 例：正規化定数が不明な分布\n",
    "\n",
    "以下のような分布を考えてみましょう：\n",
    "$$p(x) = \\frac{1}{Z} \\exp\\left(-\\frac{x^4}{4} + \\frac{x^2}{2}\\right)$$\n",
    "\n",
    "ここで$Z$は正規化定数ですが、これを解析的に計算するのは困難です。"
   ]
  },
  {
   "cell_type": "code",
   "execution_count": null,
   "metadata": {},
   "outputs": [],
   "source": [
    "def unnormalized_pdf(x):\n",
    "    \"\"\"正規化されていない確率密度関数\"\"\"\n",
    "    return np.exp(-x**4/4 + x**2/2)\n",
    "\n",
    "# 数値積分で正規化定数を近似計算\n",
    "Z, _ = quad(unnormalized_pdf, -10, 10)\n",
    "print(f\"正規化定数 Z ≈ {Z:.4f}\")\n",
    "\n",
    "def normalized_pdf(x):\n",
    "    return unnormalized_pdf(x) / Z\n",
    "\n",
    "# 可視化\n",
    "x = np.linspace(-3, 3, 1000)\n",
    "y_unnorm = unnormalized_pdf(x)\n",
    "y_norm = normalized_pdf(x)\n",
    "\n",
    "fig, (ax1, ax2) = plt.subplots(1, 2, figsize=(12, 4))\n",
    "\n",
    "ax1.plot(x, y_unnorm, 'b-', linewidth=2)\n",
    "ax1.set_title('Unnormalized Distribution')\n",
    "ax1.set_xlabel('x')\n",
    "ax1.set_ylabel('f(x)')\n",
    "\n",
    "ax2.plot(x, y_norm, 'r-', linewidth=2)\n",
    "ax2.set_title('Normalized Distribution')\n",
    "ax2.set_xlabel('x')\n",
    "ax2.set_ylabel('p(x)')\n",
    "\n",
    "plt.tight_layout()\n",
    "plt.show()"
   ]
  },
  {
   "cell_type": "markdown",
   "metadata": {},
   "source": [
    "## 1.2 マルコフ連鎖の基本\n",
    "\n",
    "**マルコフ連鎖**は、MCMCの核となる概念です。\n",
    "\n",
    "### マルコフ性\n",
    "現在の状態のみに依存して次の状態が決まる性質：\n",
    "$$P(X_{t+1} | X_t, X_{t-1}, ..., X_0) = P(X_{t+1} | X_t)$$\n",
    "\n",
    "### 遷移確率行列\n",
    "状態$i$から状態$j$への遷移確率を$p_{ij}$とすると：\n",
    "$$P = \\begin{pmatrix}\n",
    "p_{11} & p_{12} & \\cdots & p_{1n} \\\\\n",
    "p_{21} & p_{22} & \\cdots & p_{2n} \\\\\n",
    "\\vdots & \\vdots & \\ddots & \\vdots \\\\\n",
    "p_{n1} & p_{n2} & \\cdots & p_{nn}\n",
    "\\end{pmatrix}$$"
   ]
  },
  {
   "cell_type": "markdown",
   "metadata": {},
   "source": [
    "### 例：簡単なマルコフ連鎖のシミュレーション"
   ]
  },
  {
   "cell_type": "code",
   "execution_count": null,
   "metadata": {},
   "outputs": [],
   "source": [
    "def simulate_markov_chain(P, initial_state, n_steps):\n",
    "    \"\"\"\n",
    "    マルコフ連鎖のシミュレーション\n",
    "    \n",
    "    Parameters:\n",
    "    - P: 遷移確率行列\n",
    "    - initial_state: 初期状態\n",
    "    - n_steps: ステップ数\n",
    "    \"\"\"\n",
    "    n_states = P.shape[0]\n",
    "    states = np.zeros(n_steps, dtype=int)\n",
    "    states[0] = initial_state\n",
    "    \n",
    "    for t in range(1, n_steps):\n",
    "        current_state = states[t-1]\n",
    "        # 現在の状態から次の状態への遷移確率に基づいてサンプリング\n",
    "        states[t] = np.random.choice(n_states, p=P[current_state])\n",
    "    \n",
    "    return states\n",
    "\n",
    "# 3状態のマルコフ連鎖の例\n",
    "P = np.array([\n",
    "    [0.7, 0.2, 0.1],  # 状態0からの遷移確率\n",
    "    [0.3, 0.4, 0.3],  # 状態1からの遷移確率\n",
    "    [0.2, 0.3, 0.5]   # 状態2からの遷移確率\n",
    "])\n",
    "\n",
    "# シミュレーション実行\n",
    "chain = simulate_markov_chain(P, initial_state=0, n_steps=1000)\n",
    "\n",
    "# 結果の可視化\n",
    "fig, (ax1, ax2) = plt.subplots(2, 1, figsize=(12, 8))\n",
    "\n",
    "# 状態の時系列\n",
    "ax1.plot(chain[:200], 'o-', markersize=3, linewidth=1)\n",
    "ax1.set_title('Markov Chain State Transitions (first 200 steps)')\n",
    "ax1.set_xlabel('Time Step')\n",
    "ax1.set_ylabel('State')\n",
    "ax1.set_yticks([0, 1, 2])\n",
    "ax1.grid(True, alpha=0.3)\n",
    "\n",
    "# 状態の分布\n",
    "state_counts = np.bincount(chain)\n",
    "state_probs = state_counts / len(chain)\n",
    "\n",
    "ax2.bar(range(3), state_probs, alpha=0.7, color=['blue', 'orange', 'green'])\n",
    "ax2.set_title('Empirical State Distribution')\n",
    "ax2.set_xlabel('State')\n",
    "ax2.set_ylabel('Probability')\n",
    "ax2.set_xticks([0, 1, 2])\n",
    "\n",
    "plt.tight_layout()\n",
    "plt.show()\n",
    "\n",
    "print(f\"経験的状態分布: {state_probs}\")"
   ]
  },
  {
   "cell_type": "markdown",
   "metadata": {},
   "source": [
    "## 1.3 定常分布\n",
    "\n",
    "**定常分布**$\\pi$は、以下の条件を満たす分布です：\n",
    "$$\\pi = \\pi P$$\n",
    "\n",
    "これは、分布$\\pi$がマルコフ連鎖の長期的な振る舞いを表すことを意味します。"
   ]
  },
  {
   "cell_type": "code",
   "execution_count": null,
   "metadata": {},
   "outputs": [],
   "source": [
    "def find_stationary_distribution(P, method='eigenvalue'):\n",
    "    \"\"\"\n",
    "    定常分布の計算\n",
    "    \n",
    "    Parameters:\n",
    "    - P: 遷移確率行列\n",
    "    - method: 'eigenvalue' または 'power_iteration'\n",
    "    \"\"\"\n",
    "    if method == 'eigenvalue':\n",
    "        # 固有値・固有ベクトル法\n",
    "        eigenvals, eigenvecs = np.linalg.eig(P.T)\n",
    "        # 固有値1に対応する固有ベクトルを探す\n",
    "        idx = np.argmin(np.abs(eigenvals - 1.0))\n",
    "        stationary = np.real(eigenvecs[:, idx])\n",
    "        stationary = stationary / np.sum(stationary)  # 正規化\n",
    "        return stationary\n",
    "    \n",
    "    elif method == 'power_iteration':\n",
    "        # べき乗法による近似\n",
    "        pi = np.ones(P.shape[0]) / P.shape[0]  # 初期分布\n",
    "        for _ in range(1000):\n",
    "            pi_new = pi @ P\n",
    "            if np.allclose(pi, pi_new, atol=1e-10):\n",
    "                break\n",
    "            pi = pi_new\n",
    "        return pi\n",
    "\n",
    "# 先ほどの遷移行列Pの定常分布を計算\n",
    "stationary_exact = find_stationary_distribution(P, method='eigenvalue')\n",
    "stationary_approx = find_stationary_distribution(P, method='power_iteration')\n",
    "\n",
    "print(\"理論的定常分布 (固有値法):\")\n",
    "print(f\"π = [{stationary_exact[0]:.4f}, {stationary_exact[1]:.4f}, {stationary_exact[2]:.4f}]\")\n",
    "\n",
    "print(\"\\n近似定常分布 (べき乗法):\")\n",
    "print(f\"π = [{stationary_approx[0]:.4f}, {stationary_approx[1]:.4f}, {stationary_approx[2]:.4f}]\")\n",
    "\n",
    "print(f\"\\n経験分布との比較:\")\n",
    "print(f\"経験分布: [{state_probs[0]:.4f}, {state_probs[1]:.4f}, {state_probs[2]:.4f}]\")\n",
    "print(f\"理論値:   [{stationary_exact[0]:.4f}, {stationary_exact[1]:.4f}, {stationary_exact[2]:.4f}]\")"
   ]
  },
  {
   "cell_type": "markdown",
   "metadata": {},
   "source": [
    "## 1.4 詳細釣り合い条件\n",
    "\n",
    "**詳細釣り合い条件**（Detailed Balance Condition）は、MCMCアルゴリズムの設計において重要な概念です：\n",
    "\n",
    "$$\\pi(x) P(x \\rightarrow y) = \\pi(y) P(y \\rightarrow x)$$\n",
    "\n",
    "この条件は、定常状態において各状態間のフローが釣り合っていることを意味します。"
   ]
  },
  {
   "cell_type": "code",
   "execution_count": null,
   "metadata": {},
   "outputs": [],
   "source": [
    "def check_detailed_balance(P, pi):\n",
    "    \"\"\"\n",
    "    詳細釣り合い条件のチェック\n",
    "    \"\"\"\n",
    "    n = P.shape[0]\n",
    "    detailed_balance_matrix = np.zeros((n, n))\n",
    "    \n",
    "    for i in range(n):\n",
    "        for j in range(n):\n",
    "            # π(i) * P(i→j) と π(j) * P(j→i) を比較\n",
    "            left_side = pi[i] * P[i, j]\n",
    "            right_side = pi[j] * P[j, i]\n",
    "            detailed_balance_matrix[i, j] = left_side - right_side\n",
    "    \n",
    "    return detailed_balance_matrix\n",
    "\n",
    "# 詳細釣り合い条件をチェック\n",
    "db_matrix = check_detailed_balance(P, stationary_exact)\n",
    "\n",
    "print(\"詳細釣り合い条件のチェック:\")\n",
    "print(\"π(i)P(i→j) - π(j)P(j→i) の値:\")\n",
    "print(db_matrix)\n",
    "print(f\"\\n最大絶対誤差: {np.max(np.abs(db_matrix)):.6f}\")\n",
    "\n",
    "# この遷移行列は詳細釣り合い条件を満たさない（一般的な場合）\n",
    "print(\"\\n注意: 一般的なマルコフ連鎖では詳細釣り合い条件は成立しません。\")\n",
    "print(\"MCMCアルゴリズムでは、この条件を満たすように遷移確率を設計します。\")"
   ]
  },
  {
   "cell_type": "markdown",
   "metadata": {},
   "source": [
    "## 1.5 MCMCの基本的なアイデア\n",
    "\n",
    "MCMCの基本的なアイデアは以下の通りです：\n",
    "\n",
    "1. **目標分布**：サンプリングしたい分布$\\pi(x)$\n",
    "2. **マルコフ連鎖の構築**：$\\pi(x)$を定常分布とするマルコフ連鎖を構築\n",
    "3. **サンプリング**：十分長い時間経過後のサンプルは$\\pi(x)$に従う\n",
    "\n",
    "### 重要な性質\n",
    "- **エルゴード性**：任意の初期状態から定常分布に収束\n",
    "- **非可約性**：すべての状態間が到達可能\n",
    "- **非周期性**：周期的な振動がない"
   ]
  },
  {
   "cell_type": "markdown",
   "metadata": {},
   "source": [
    "## 1.6 演習問題\n",
    "\n",
    "### 問題1：マルコフ連鎖のシミュレーション\n",
    "以下の遷移確率行列を持つマルコフ連鎖をシミュレートし、定常分布を求めなさい。"
   ]
  },
  {
   "cell_type": "code",
   "execution_count": null,
   "metadata": {},
   "outputs": [],
   "source": [
    "# 演習用の遷移行列\n",
    "P_exercise = np.array([\n",
    "    [0.5, 0.3, 0.2],\n",
    "    [0.2, 0.6, 0.2],\n",
    "    [0.1, 0.4, 0.5]\n",
    "])\n",
    "\n",
    "# ここにコードを書いてください\n",
    "# 1. マルコフ連鎖をシミュレート\n",
    "# 2. 定常分布を理論的に計算\n",
    "# 3. 経験分布と比較\n",
    "\n",
    "# 解答例（コメントアウト）\n",
    "# chain_ex = simulate_markov_chain(P_exercise, 0, 10000)\n",
    "# stationary_ex = find_stationary_distribution(P_exercise)\n",
    "# empirical_ex = np.bincount(chain_ex) / len(chain_ex)\n",
    "# print(f\"理論値: {stationary_ex}\")\n",
    "# print(f\"経験値: {empirical_ex}\")"
   ]
  },
  {
   "cell_type": "markdown",
   "metadata": {},
   "source": [
    "### 問題2：収束の可視化\n",
    "異なる初期状態から始めたマルコフ連鎖が定常分布に収束する様子を可視化しなさい。"
   ]
  },
  {
   "cell_type": "code",
   "execution_count": null,
   "metadata": {},
   "outputs": [],
   "source": [
    "# ここにコードを書いてください\n",
    "# 1. 複数の初期状態からマルコフ連鎖を開始\n",
    "# 2. 各状態の確率の時間変化をプロット\n",
    "# 3. 定常分布への収束を観察\n",
    "\n",
    "pass  # 学習者が実装"
   ]
  },
  {
   "cell_type": "markdown",
   "metadata": {},
   "source": [
    "## まとめ\n",
    "\n",
    "この章では、MCMCの基礎となる以下の概念を学びました：\n",
    "\n",
    "1. **MCMCの必要性**：複雑な分布からのサンプリング問題\n",
    "2. **マルコフ連鎖**：マルコフ性と遷移確率行列\n",
    "3. **定常分布**：長期的な振る舞いと計算方法\n",
    "4. **詳細釣り合い条件**：MCMCアルゴリズム設計の原理\n",
    "\n",
    "次の章では、これらの理論を基に具体的なMCMCアルゴリズムであるメトロポリス・ヘイスティングス法を学習します。\n",
    "\n",
    "### 参考文献\n",
    "- Robert, C. & Casella, G. (2004). Monte Carlo Statistical Methods\n",
    "- Brooks, S. et al. (2011). Handbook of Markov Chain Monte Carlo"
   ]
  }
 ],
 "metadata": {
  "kernelspec": {
   "display_name": "Python 3",
   "language": "python",
   "name": "python3"
  },
  "language_info": {
   "codemirror_mode": {
    "name": "ipython",
    "version": 3
   },
   "file_extension": ".py",
   "mimetype": "text/x-python",
   "name": "python",
   "nbconvert_exporter": "python",
   "pygments_lexer": "ipython3",
   "version": "3.8.5"
  }
 },
 "nbformat": 4,
 "nbformat_minor": 4
}